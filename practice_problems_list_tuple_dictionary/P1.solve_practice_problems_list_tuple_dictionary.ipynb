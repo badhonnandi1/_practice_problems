{
 "cells": [
  {
   "cell_type": "code",
   "execution_count": 5,
   "id": "86e05274",
   "metadata": {},
   "outputs": [
    {
     "name": "stdout",
     "output_type": "stream",
     "text": [
      "my_dict : {'key1': [10, [40, 50]], 'key2': [[20], 10], 'key3': [30]}\n",
      "my_tuple : (('key1', [10, [40, 50]]), ('key2', [[20], 10]), ('key3', [30]))\n"
     ]
    }
   ],
   "source": [
    "#task1\n",
    "keys = ['key1', 'key2', 'key3', 'key1', 'key2'] \n",
    "values = [10, [20], 30, [40, 50], 10]\n",
    "my_dict = {}\n",
    "my_list = []\n",
    "for i in range(len(keys)):\n",
    "    if keys[i] in my_dict.keys():\n",
    "        my_dict[keys[i]].append(values[i])\n",
    "    else:\n",
    "        my_dict[keys[i]]=[values[i]]\n",
    "print('my_dict :',my_dict)\n",
    "for k,v in my_dict.items():\n",
    "    new_list = []\n",
    "    new_list.append(k)\n",
    "    new_list.append(v)\n",
    "    my_list.append(tuple(new_list))\n",
    "print('my_tuple :',tuple(my_list))\n",
    "    "
   ]
  },
  {
   "cell_type": "code",
   "execution_count": 4,
   "id": "a1139f09",
   "metadata": {},
   "outputs": [
    {
     "name": "stdout",
     "output_type": "stream",
     "text": [
      "The purpose of our lives is to be happy\n",
      "[3, 7, 2, 5]\n"
     ]
    }
   ],
   "source": [
    "#task2\n",
    "user = input()\n",
    "mylist = user.split(' ')\n",
    "new_list = []\n",
    "for i in mylist:\n",
    "    if len(i) not in new_list:\n",
    "        new_list.append(len(i))\n",
    "print(new_list)"
   ]
  },
  {
   "cell_type": "code",
   "execution_count": 29,
   "id": "7ee859a0",
   "metadata": {},
   "outputs": [
    {
     "name": "stdout",
     "output_type": "stream",
     "text": [
      "{(22, 22, 13): 19.0, (30, 78, 45, 4): 39.25, (81, 959, 39, 45): 281.0, (1, 4, 4, 5, 6): 4.0}\n",
      "(81, 959, 39, 45)\n"
     ]
    }
   ],
   "source": [
    "#task3\n",
    "given = ((22, 22, 13), (30, 78, 45,4), (81, 959, 39, 45), (1, 4, 4,5,6))\n",
    "mydict = {}\n",
    "for i in range(len(given)):\n",
    "    sum = 0\n",
    "    count = 0\n",
    "    for k in given[i]:\n",
    "        sum += k\n",
    "        count += 1\n",
    "\n",
    "    mydict[given[i]]=(sum/count)\n",
    "print(mydict)\n",
    "large = 0\n",
    "index = 0 \n",
    "for i in range(len(given)):\n",
    "    sum = 0\n",
    "    for j in given[i]:\n",
    "        sum += j\n",
    "    if sum>large:\n",
    "        large = sum\n",
    "        index = i\n",
    "print(given[index])\n",
    "   "
   ]
  },
  {
   "cell_type": "code",
   "execution_count": 30,
   "id": "3c06db19",
   "metadata": {},
   "outputs": [
    {
     "name": "stdout",
     "output_type": "stream",
     "text": [
      "{21: 13, 17: 78, 53: 126, 4: 8}\n"
     ]
    }
   ],
   "source": [
    "#task4\n",
    "given = ((20, 22, 13), (30, 33, 45,4), (81, 76, 30, 45), (1, 7, 4,2,6))\n",
    "mydict = {}\n",
    "for i in given:\n",
    "    even_sum = 0\n",
    "    odd_sum = 0\n",
    "    count = 0\n",
    "    for k in i:\n",
    "        if k%2==0:\n",
    "            even_sum += k\n",
    "            count += 1\n",
    "        else:\n",
    "            odd_sum += k\n",
    "    mydict[int(even_sum/count)] = odd_sum\n",
    "print(mydict)"
   ]
  },
  {
   "cell_type": "code",
   "execution_count": 32,
   "id": "074d74f0",
   "metadata": {},
   "outputs": [
    {
     "name": "stdout",
     "output_type": "stream",
     "text": [
      "{'ABDFG': 116}\n"
     ]
    }
   ],
   "source": [
    "#task5\n",
    "my_dict = {'A': 7, 'B': '8', 'c': 14, 'D': 10, 'e': '70', 'F': 9, 'G': 2, 'h' : '32'}\n",
    "new_dict = {}\n",
    "mystr = ''\n",
    "sum = 0\n",
    "for k,v in my_dict.items():\n",
    "    if 65<=ord(k)<=90:\n",
    "        mystr += k\n",
    "    else:\n",
    "        sum += int(v)\n",
    "new_dict[mystr] = sum\n",
    "print(new_dict)"
   ]
  },
  {
   "cell_type": "code",
   "execution_count": 33,
   "id": "2c6d4bbf",
   "metadata": {},
   "outputs": [
    {
     "name": "stdout",
     "output_type": "stream",
     "text": [
      "{'Violet': ['Red', 'Blue'], 'Green': ['Blue', 'Yellow'], 'Orange': ['Red', 'Yellow']}\n"
     ]
    }
   ],
   "source": [
    "#task6\n",
    "mylist = [['Red', 'Blue', 'Violet'], ['Blue', 'Yellow','Green'], ['Red', 'Yellow','Orange']]\n",
    "mydict = {}\n",
    "for i in mylist:\n",
    "    my_tuple = []\n",
    "    for j in range(len(i)-1):\n",
    "        my_tuple.append(i[j])\n",
    "    mydict[i[-1]] = my_tuple\n",
    "print(mydict)"
   ]
  },
  {
   "cell_type": "code",
   "execution_count": 34,
   "id": "95780836",
   "metadata": {},
   "outputs": [
    {
     "name": "stdout",
     "output_type": "stream",
     "text": [
      "10 400\n",
      "20 300\n",
      "30 200\n",
      "40 100\n"
     ]
    }
   ],
   "source": [
    "#task7\n",
    "List1 = [10 ,20, 30, 40]\n",
    "List2 = [100,200,300,400][::-1]\n",
    "for i in range(len(List1)):\n",
    "    print(List1[i],List2[i])"
   ]
  },
  {
   "cell_type": "code",
   "execution_count": 35,
   "id": "89335caf",
   "metadata": {},
   "outputs": [
    {
     "name": "stdout",
     "output_type": "stream",
     "text": [
      "['deR', 'neerG', 'eulB', 'etihW', 'kcalB']\n"
     ]
    }
   ],
   "source": [
    "#task8\n",
    "mylist = ['Red','Green','Blue','White','Black']\n",
    "new_list = []\n",
    "for i in mylist:\n",
    "    new_list.append(i[::-1])\n",
    "print(new_list)"
   ]
  },
  {
   "cell_type": "code",
   "execution_count": 36,
   "id": "5473bbdd",
   "metadata": {},
   "outputs": [
    {
     "name": "stdout",
     "output_type": "stream",
     "text": [
      "First even : 4 and First odd: 1\n"
     ]
    }
   ],
   "source": [
    "#task9(first)\n",
    "mylist = [1, 3, 5, 7, 4, 1, 6, 8]\n",
    "even = 0\n",
    "odd = 0\n",
    "for i in mylist:\n",
    "    if i%2==0:\n",
    "        even = i\n",
    "        break\n",
    "for i in mylist:\n",
    "    if i%2!=0:\n",
    "        odd = i\n",
    "        break\n",
    "print('First even :',even,'and First odd:',odd)"
   ]
  },
  {
   "cell_type": "code",
   "execution_count": 37,
   "id": "b27197e9",
   "metadata": {},
   "outputs": [
    {
     "name": "stdout",
     "output_type": "stream",
     "text": [
      "['p1', 'p2', 'p3', 'p4', 'p5', 'q1', 'q2', 'q3', 'q4', 'q5']\n"
     ]
    }
   ],
   "source": [
    "#task9(second)\n",
    "T = ['p', 'q'] \n",
    "N = 5 \n",
    "new_list = []\n",
    "for i in T:\n",
    "    for j in range(1,N+1):\n",
    "        new_list.append(i+str(j))\n",
    "print(new_list)\n",
    "    "
   ]
  },
  {
   "cell_type": "code",
   "execution_count": 47,
   "id": "43638563",
   "metadata": {},
   "outputs": [
    {
     "name": "stdout",
     "output_type": "stream",
     "text": [
      "{1: ['Sova', 'Initiator'], 2: ['Brimstone', 'Controller'], 3: ['Jett', 'Duelist'], 4: ['Reyna', 'Duelist'], 5: ['Chamber', 'Sentinel']}\n"
     ]
    }
   ],
   "source": [
    "#task10\n",
    "d = { \n",
    "\"Agent Name\": [\"Sova\", \"Jett\", \"Chamber\", \"Brimstone\", \"Reyna\"],\n",
    "\"Agent Type\": [\"Initiator\", \"Duelist\", \"Sentinel\", \"Controller\", \"Duelist\"],\n",
    "\"Sequence\" : [1, 3, 5, 2, 4] \n",
    "}\n",
    "_d = {}\n",
    "for i in range(len(d['Sequence'])):\n",
    "    if d['Sequence'][i] not in _d.keys():\n",
    "        _d[d['Sequence'][i]] = [d['Agent Name'][i]]\n",
    "        _d[d['Sequence'][i]].append(d['Agent Type'][i])\n",
    "mylist = sorted(_d)\n",
    "r_d = {}\n",
    "for i in mylist:\n",
    "    r_d[i] = _d[i]\n",
    "print(r_d)"
   ]
  },
  {
   "cell_type": "code",
   "execution_count": 61,
   "id": "fc000fbf",
   "metadata": {},
   "outputs": [
    {
     "name": "stdout",
     "output_type": "stream",
     "text": [
      "{'Side Arms': ['Ghost', 8, 'Sheriff'], 'Rifles': ['Vandal', 25, 'Phantom'], 'Sniper Rifles': ['Operator', 7]}\n"
     ]
    }
   ],
   "source": [
    "#task11\n",
    "mytuple = ({\"Ghost\" : [\"Side Arms\", 3]}, {\"Vandal\" : [\"Rifles\", 15]}, {\"Sheriff\" : [\"Side Arms\", 5]}, {\"Operator\" \n",
    ": [\"Sniper Rifles\", 7]}, {\"Phantom\" : [\"Rifles\", 10]})\n",
    "mydict = {}\n",
    "mynewlist = []\n",
    "for i in mytuple:\n",
    "    for k,v in i.items():\n",
    "        if v[0] in mydict.keys():\n",
    "            mydict[v[0]][1]+=v[1]\n",
    "            mydict[v[0]].append(k)\n",
    "        else:\n",
    "            mydict[v[0]]=[k]\n",
    "            mydict[v[0]].append(v[1])\n",
    "print(mydict)"
   ]
  },
  {
   "cell_type": "code",
   "execution_count": 49,
   "id": "fe004089",
   "metadata": {},
   "outputs": [
    {
     "name": "stdout",
     "output_type": "stream",
     "text": [
      "e was added at position 3\n"
     ]
    }
   ],
   "source": [
    "#task12\n",
    "input1 = 'abcd'\n",
    "input2 = 'dcbea'\n",
    "st = ''\n",
    "for i in input2:\n",
    "    if i not in input1:\n",
    "        st = i\n",
    "index = 0\n",
    "for i in range(len(input2)):\n",
    "    if input2[i] is st:\n",
    "        index = i\n",
    "        break\n",
    "print(st,'was added at position',index)"
   ]
  },
  {
   "cell_type": "code",
   "execution_count": 55,
   "id": "4ac69a4d",
   "metadata": {},
   "outputs": [
    {
     "name": "stdout",
     "output_type": "stream",
     "text": [
      "'g' was the 1st letter which was entered only once\n"
     ]
    }
   ],
   "source": [
    "#task13\n",
    "x = ['h','a','h','p','g','a','a','v','p','p','a','a','a','b','a','p']\n",
    "mydict = {}\n",
    "for i in x:\n",
    "    if i in mydict.keys():\n",
    "        mydict[i] += 1\n",
    "    else:\n",
    "        mydict[i] = 1\n",
    "for k,v in mydict.items():\n",
    "    if v==1:\n",
    "        print(\"'\"+str(k)+\"'\",'was the 1st letter which was entered only once')\n",
    "        break"
   ]
  },
  {
   "cell_type": "code",
   "execution_count": null,
   "id": "cc8b5350",
   "metadata": {},
   "outputs": [],
   "source": []
  }
 ],
 "metadata": {
  "kernelspec": {
   "display_name": "Python 3 (ipykernel)",
   "language": "python",
   "name": "python3"
  },
  "language_info": {
   "codemirror_mode": {
    "name": "ipython",
    "version": 3
   },
   "file_extension": ".py",
   "mimetype": "text/x-python",
   "name": "python",
   "nbconvert_exporter": "python",
   "pygments_lexer": "ipython3",
   "version": "3.9.13"
  }
 },
 "nbformat": 4,
 "nbformat_minor": 5
}
